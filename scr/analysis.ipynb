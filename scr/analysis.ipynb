{
 "cells": [
  {
   "cell_type": "code",
   "execution_count": 3,
   "metadata": {},
   "outputs": [
    {
     "name": "stderr",
     "output_type": "stream",
     "text": [
      "Matplotlib is building the font cache; this may take a moment.\n"
     ]
    }
   ],
   "source": [
    "import pandas as pd\n",
    "from datetime import datetime\n",
    "import matplotlib.pyplot as plt\n",
    "\n",
    "# Read CSV files\n",
    "polymarket = pd.read_csv(\"../output/polymarket_data.csv\")\n",
    "betfair = pd.read_csv(\"../output/betfair_data.csv\")\n",
    "oddschecker = pd.read_csv(\"../output/oddschecker_data.csv\")\n",
    "predictit = pd.read_csv(\"../output/predictit_data.csv\")"
   ]
  },
  {
   "cell_type": "markdown",
   "metadata": {},
   "source": [
    "#### Process datasets"
   ]
  },
  {
   "cell_type": "code",
   "execution_count": 6,
   "metadata": {},
   "outputs": [],
   "source": [
    "# Process oddschecker data\n",
    "oddschecker['timestamp'] = pd.to_datetime(oddschecker['timestamp'])\n",
    "oddschecker = oddschecker[oddschecker['bet_name'].isin(['Donald Trump', 'Kamala Harris'])]\n",
    "\n",
    "# Melt the DataFrame to long format\n",
    "oddschecker_melted = oddschecker.melt(\n",
    "    id_vars=['bet_name', 'timestamp'],\n",
    "    var_name='name',\n",
    "    value_name='value'\n",
    ")\n",
    "\n",
    "# Filter for specific bookmakers\n",
    "oddschecker_melted = oddschecker_melted[oddschecker_melted['name'].isin(['B3', 'SK', 'BF'])]\n",
    "\n",
    "# Add 'market' and 'source' columns\n",
    "oddschecker_melted['market'] = oddschecker_melted['bet_name']\n",
    "oddschecker_melted['source'] = oddschecker_melted['name']\n",
    "\n",
    "# Select relevant columns\n",
    "prices = oddschecker_melted[['timestamp', 'value', 'market', 'source']]\n",
    "\n",
    "betfair['timestamp'] = pd.to_datetime(betfair['timestamp'])\n",
    "betfair['market'] = betfair['bet_name']\n",
    "betfair['source'] = 'betfairx'\n",
    "\n",
    "# Select and rename columns\n",
    "betfair_prices = betfair[['timestamp', 'back_price', 'market', 'source']].rename(columns={'back_price': 'value'})\n",
    "\n",
    "# Append to prices DataFrame\n",
    "prices = pd.concat([prices, betfair_prices], ignore_index=True)\n",
    "\n",
    "# Process polymarket data\n",
    "polymarket['timestamp'] = pd.to_datetime(polymarket['timestamp'])\n",
    "\n",
    "# Map 'bet_id' to 'market' names\n",
    "polymarket['market'] = polymarket['bet_id'].apply(\n",
    "    lambda x: 'Donald Trump' if x == 253591 else 'Kamala Harris'\n",
    ")\n",
    "\n",
    "polymarket['source'] = 'polymarket'\n",
    "polymarket['value'] = 1 / polymarket['yes_price']\n",
    "\n",
    "# Select relevant columns\n",
    "polymarket_prices = polymarket[['timestamp', 'value', 'market', 'source']]\n",
    "\n",
    "# Append to prices DataFrame\n",
    "prices = pd.concat([prices, polymarket_prices], ignore_index=True)\n",
    "\n",
    "# Process predictit data\n",
    "predictit['timestamp'] = pd.to_datetime(predictit['timestamp'])\n",
    "predictit['market'] = predictit['bet_name']\n",
    "predictit['source'] = 'predictit'\n",
    "predictit['value'] = 1 / predictit['buy_yes_price']\n",
    "\n",
    "# Select relevant columns\n",
    "predictit_prices = predictit[['timestamp', 'value', 'market', 'source']]"
   ]
  },
  {
   "cell_type": "code",
   "execution_count": 7,
   "metadata": {},
   "outputs": [
    {
     "name": "stdout",
     "output_type": "stream",
     "text": [
      "                             timestamp      value         market     source\n",
      "0     2024-10-30 19:01:37.317865+00:00        1.5   Donald Trump         B3\n",
      "1     2024-10-30 19:01:37.317865+00:00        2.7  Kamala Harris         B3\n",
      "2     2024-10-30 19:02:51.730743+00:00        1.5   Donald Trump         B3\n",
      "3     2024-10-30 19:02:51.730743+00:00        2.7  Kamala Harris         B3\n",
      "4     2024-10-30 19:04:04.982139+00:00        1.5   Donald Trump         B3\n",
      "...                                ...        ...            ...        ...\n",
      "59441 2024-11-06 09:37:30.261213+00:00  33.333333  Kamala Harris  predictit\n",
      "59442 2024-11-06 09:38:30.611898+00:00   1.020408   Donald Trump  predictit\n",
      "59443 2024-11-06 09:38:30.611898+00:00  33.333333  Kamala Harris  predictit\n",
      "59444 2024-11-06 09:39:30.967674+00:00   1.020408   Donald Trump  predictit\n",
      "59445 2024-11-06 09:39:30.967674+00:00  33.333333  Kamala Harris  predictit\n",
      "\n",
      "[59446 rows x 4 columns]\n"
     ]
    }
   ],
   "source": [
    "# Append to prices DataFrame\n",
    "prices = pd.concat([prices, predictit_prices], ignore_index=True)\n",
    "\n",
    "# Reset index if necessary\n",
    "prices = prices.reset_index(drop=True)\n",
    "\n",
    "# Display the resulting DataFrame\n",
    "print(prices)"
   ]
  },
  {
   "cell_type": "markdown",
   "metadata": {},
   "source": [
    "#### Arbitrages"
   ]
  },
  {
   "cell_type": "code",
   "execution_count": 10,
   "metadata": {},
   "outputs": [],
   "source": [
    "def calculate_arbitrage(prices_df):\n",
    "    # Ensure 'value' is numeric\n",
    "    prices_df['value'] = pd.to_numeric(prices_df['value'], errors='coerce')\n",
    "    prices_df = prices_df.dropna(subset=['value']).copy()  # Make a copy here\n",
    "\n",
    "    # Get best odds from any source for each market at each timestamp\n",
    "    best_odds = prices_df.groupby(['timestamp', 'market']).agg({'value': 'max'}).reset_index()\n",
    "\n",
    "    # Calculate implied probabilities\n",
    "    best_odds['implied_prob'] = 1 / best_odds['value']\n",
    "\n",
    "    # Pivot to have markets as columns\n",
    "    odds_pivot = best_odds.pivot(index='timestamp', columns='market', values='implied_prob')\n",
    "\n",
    "    # Drop rows with missing values (when odds for all outcomes are not available)\n",
    "    odds_pivot = odds_pivot.dropna()\n",
    "\n",
    "    # Calculate overround\n",
    "    odds_pivot['overround'] = odds_pivot.sum(axis=1)\n",
    "\n",
    "    # Identify arbitrage opportunities\n",
    "    arbitrage_opportunities = odds_pivot[odds_pivot['overround'] < 1].copy()\n",
    "\n",
    "    # Calculate profit margin\n",
    "    arbitrage_opportunities['profit_margin'] = (1 - arbitrage_opportunities['overround']) * 100\n",
    "\n",
    "    return arbitrage_opportunities"
   ]
  },
  {
   "cell_type": "code",
   "execution_count": 11,
   "metadata": {},
   "outputs": [
    {
     "name": "stdout",
     "output_type": "stream",
     "text": [
      "\n",
      "Arbitrage Opportunities Over Time:\n",
      "market                            overround  profit_margin\n",
      "timestamp                                                 \n",
      "2024-10-30 18:14:26.054038+00:00      0.999            0.1\n",
      "2024-10-30 18:15:26.228410+00:00      0.999            0.1\n",
      "2024-10-30 18:16:26.406672+00:00      0.999            0.1\n",
      "2024-10-30 18:17:26.535326+00:00      0.999            0.1\n",
      "2024-10-30 18:40:31.701970+00:00      0.999            0.1\n",
      "...                                     ...            ...\n",
      "2024-11-06 09:35:49.650731+00:00      0.998            0.2\n",
      "2024-11-06 09:36:49.755536+00:00      0.998            0.2\n",
      "2024-11-06 09:37:49.837351+00:00      0.998            0.2\n",
      "2024-11-06 09:38:49.952954+00:00      0.998            0.2\n",
      "2024-11-06 09:39:50.052930+00:00      0.998            0.2\n",
      "\n",
      "[2283 rows x 2 columns]\n"
     ]
    }
   ],
   "source": [
    "arbitrage_opportunities = calculate_arbitrage(prices)\n",
    "\n",
    "print(\"\\nArbitrage Opportunities Over Time:\")\n",
    "print(arbitrage_opportunities[['overround', 'profit_margin']])"
   ]
  },
  {
   "cell_type": "code",
   "execution_count": 12,
   "metadata": {},
   "outputs": [
    {
     "ename": "NameError",
     "evalue": "name 'plt' is not defined",
     "output_type": "error",
     "traceback": [
      "\u001b[0;31m---------------------------------------------------------------------------\u001b[0m",
      "\u001b[0;31mNameError\u001b[0m                                 Traceback (most recent call last)",
      "Cell \u001b[0;32mIn[12], line 2\u001b[0m\n\u001b[1;32m      1\u001b[0m \u001b[38;5;66;03m# Visualize profit margin over time\u001b[39;00m\n\u001b[0;32m----> 2\u001b[0m \u001b[43mplt\u001b[49m\u001b[38;5;241m.\u001b[39mfigure(figsize\u001b[38;5;241m=\u001b[39m(\u001b[38;5;241m12\u001b[39m, \u001b[38;5;241m6\u001b[39m))\n\u001b[1;32m      3\u001b[0m plt\u001b[38;5;241m.\u001b[39mplot(arbitrage_opportunities\u001b[38;5;241m.\u001b[39mindex, arbitrage_opportunities[\u001b[38;5;124m'\u001b[39m\u001b[38;5;124mprofit_margin\u001b[39m\u001b[38;5;124m'\u001b[39m], marker\u001b[38;5;241m=\u001b[39m\u001b[38;5;124m'\u001b[39m\u001b[38;5;124mo\u001b[39m\u001b[38;5;124m'\u001b[39m)\n\u001b[1;32m      4\u001b[0m plt\u001b[38;5;241m.\u001b[39mtitle(\u001b[38;5;124m'\u001b[39m\u001b[38;5;124mArbitrage Profit Margin Over Time\u001b[39m\u001b[38;5;124m'\u001b[39m)\n",
      "\u001b[0;31mNameError\u001b[0m: name 'plt' is not defined"
     ]
    }
   ],
   "source": [
    "# Visualize profit margin over time\n",
    "plt.figure(figsize=(12, 6))\n",
    "plt.plot(arbitrage_opportunities.index, arbitrage_opportunities['profit_margin'], marker='o')\n",
    "plt.title('Arbitrage Profit Margin Over Time')\n",
    "plt.xlabel('Timestamp')\n",
    "plt.ylabel('Profit Margin (%)')\n",
    "plt.grid(True)\n",
    "plt.show()"
   ]
  },
  {
   "cell_type": "code",
   "execution_count": null,
   "metadata": {},
   "outputs": [],
   "source": []
  }
 ],
 "metadata": {
  "kernelspec": {
   "display_name": "bfair",
   "language": "python",
   "name": "python3"
  },
  "language_info": {
   "codemirror_mode": {
    "name": "ipython",
    "version": 3
   },
   "file_extension": ".py",
   "mimetype": "text/x-python",
   "name": "python",
   "nbconvert_exporter": "python",
   "pygments_lexer": "ipython3",
   "version": "3.12.4"
  }
 },
 "nbformat": 4,
 "nbformat_minor": 2
}
