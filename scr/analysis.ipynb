{
 "cells": [
  {
   "cell_type": "code",
   "execution_count": 119,
   "metadata": {},
   "outputs": [],
   "source": [
    "import pandas as pd\n",
    "from datetime import datetime\n",
    "import matplotlib.pyplot as plt\n",
    "import numpy as np\n",
    "\n",
    "# Read CSV files\n",
    "polymarket = pd.read_csv(\"../output/polymarket_data.csv\")\n",
    "betfair = pd.read_csv(\"../output/betfair_data.csv\")\n",
    "oddschecker = pd.read_csv(\"../output/oddschecker_data.csv\")\n",
    "predictit = pd.read_csv(\"../output/predictit_data.csv\")"
   ]
  },
  {
   "cell_type": "markdown",
   "metadata": {},
   "source": [
    "#### Process datasets"
   ]
  },
  {
   "cell_type": "code",
   "execution_count": 147,
   "metadata": {},
   "outputs": [],
   "source": [
    "# Convert 'timestamp' to datetime\n",
    "for df in [polymarket, betfair, oddschecker, predictit]:\n",
    "    df['timestamp'] = pd.to_datetime(df['timestamp'])\n",
    "\n",
    "# Process each DataFrame to have consistent columns\n",
    "# [Process oddschecker]\n",
    "oddschecker = oddschecker[oddschecker['bet_name'].isin(['Donald Trump', 'Kamala Harris'])]\n",
    "oddschecker_melted = oddschecker.melt(\n",
    "    id_vars=['bet_name', 'timestamp'],\n",
    "    var_name='source',\n",
    "    value_name='value'\n",
    ")\n",
    "oddschecker_melted['value'] = pd.to_numeric(oddschecker_melted['value'], errors='coerce')\n",
    "oddschecker_melted = oddschecker_melted[oddschecker_melted['source'].isin(['B3', 'SK', 'BF'])]\n",
    "oddschecker_melted.rename(columns={'bet_name': 'market'}, inplace=True)\n",
    "oddschecker_prices = oddschecker_melted[['timestamp', 'market', 'source', 'value']]\n",
    "\n",
    "# [Process betfair]\n",
    "betfair['market'] = betfair['bet_name']\n",
    "betfair['source'] = 'betfairx'\n",
    "betfair_prices = betfair[['timestamp', 'market', 'source', 'back_price']].rename(columns={'back_price': 'value'})\n",
    "\n",
    "# [Process polymarket]\n",
    "polymarket['market'] = polymarket['bet_id'].apply(\n",
    "    lambda x: 'Donald Trump' if x == 253591 else 'Kamala Harris'\n",
    ")\n",
    "polymarket['source'] = 'polymarket'\n",
    "polymarket['value'] = 1/polymarket['yes_price']\n",
    "polymarket_prices = polymarket[['timestamp', 'market', 'source', 'value']]\n",
    "\n",
    "# [Process predictit]\n",
    "predictit['market'] = predictit['bet_name']\n",
    "predictit['source'] = 'predictit'\n",
    "predictit['value'] = 1/predictit['buy_yes_price']\n",
    "predictit_prices = predictit[['timestamp', 'market', 'source', 'value']]\n",
    "\n",
    "# Combine all prices\n",
    "prices = pd.concat([oddschecker_prices, betfair_prices, polymarket_prices, predictit_prices], ignore_index=True)\n",
    "\n",
    "# Ensure 'value' is numeric\n",
    "prices['value'] = pd.to_numeric(prices['value'], errors='coerce')\n",
    "prices = prices.dropna(subset=['value'])"
   ]
  },
  {
   "cell_type": "code",
   "execution_count": 148,
   "metadata": {},
   "outputs": [
    {
     "name": "stdout",
     "output_type": "stream",
     "text": [
      "                             timestamp         market     source      value\n",
      "0     2024-10-30 19:01:37.317865+00:00   Donald Trump         B3   1.500000\n",
      "1     2024-10-30 19:01:37.317865+00:00  Kamala Harris         B3   2.700000\n",
      "2     2024-10-30 19:02:51.730743+00:00   Donald Trump         B3   1.500000\n",
      "3     2024-10-30 19:02:51.730743+00:00  Kamala Harris         B3   2.700000\n",
      "4     2024-10-30 19:04:04.982139+00:00   Donald Trump         B3   1.500000\n",
      "...                                ...            ...        ...        ...\n",
      "75703 2024-11-06 09:37:30.261213+00:00  Kamala Harris  predictit  33.333333\n",
      "75704 2024-11-06 09:38:30.611898+00:00   Donald Trump  predictit   1.020408\n",
      "75705 2024-11-06 09:38:30.611898+00:00  Kamala Harris  predictit  33.333333\n",
      "75706 2024-11-06 09:39:30.967674+00:00   Donald Trump  predictit   1.020408\n",
      "75707 2024-11-06 09:39:30.967674+00:00  Kamala Harris  predictit  33.333333\n",
      "\n",
      "[75708 rows x 4 columns]\n"
     ]
    }
   ],
   "source": [
    "# Append to prices DataFrame\n",
    "prices = pd.concat([prices, predictit_prices], ignore_index=True)\n",
    "\n",
    "# Reset index if necessary\n",
    "prices.reset_index(inplace=True, drop=True)\n",
    "\n",
    "# Display the resulting DataFrame\n",
    "print(prices)"
   ]
  },
  {
   "cell_type": "code",
   "execution_count": 149,
   "metadata": {},
   "outputs": [],
   "source": [
    "all_timestamps = pd.date_range(start=prices['timestamp'].min(), end=prices['timestamp'].max(), freq='1 min')"
   ]
  },
  {
   "cell_type": "code",
   "execution_count": 150,
   "metadata": {},
   "outputs": [
    {
     "name": "stderr",
     "output_type": "stream",
     "text": [
      "/var/folders/ss/kjxldrfs36qgygzmg25sqy100000gn/T/ipykernel_12222/1258266920.py:8: FutureWarning: 'T' is deprecated and will be removed in a future version, please use 'min' instead.\n",
      "  resampled_prices = prices.groupby(['market', 'source'])['value'].resample('1T').last()\n"
     ]
    }
   ],
   "source": [
    "# Convert 'timestamp' to datetime if not already\n",
    "prices['timestamp'] = pd.to_datetime(prices['timestamp'])\n",
    "\n",
    "# Set 'timestamp' as the index for resampling\n",
    "prices.set_index('timestamp', inplace=True)\n",
    "\n",
    "# Resample the data to fixed intervals (e.g., every minute), aggregating only the 'value' column\n",
    "resampled_prices = prices.groupby(['market', 'source'])['value'].resample('1T').last()\n",
    "\n",
    "# Reset index to turn 'timestamp' back into a column\n",
    "resampled_prices = resampled_prices.reset_index()"
   ]
  },
  {
   "cell_type": "code",
   "execution_count": 151,
   "metadata": {},
   "outputs": [
    {
     "name": "stderr",
     "output_type": "stream",
     "text": [
      "/var/folders/ss/kjxldrfs36qgygzmg25sqy100000gn/T/ipykernel_12222/2424392235.py:13: DeprecationWarning: DataFrameGroupBy.apply operated on the grouping columns. This behavior is deprecated, and in a future version of pandas the grouping columns will be excluded from the operation. Either pass `include_groups=False` to exclude the groupings or explicitly select the grouping columns after groupby to silence this warning.\n",
      "  resampled_prices = resampled_prices.groupby(['market', 'source']).apply(forward_fill_with_time_limit).reset_index(drop=True)\n"
     ]
    }
   ],
   "source": [
    "# Step 3: Forward-Fill with Maximum Time Delta\n",
    "max_delta = pd.Timedelta(minutes=15)\n",
    "\n",
    "def forward_fill_with_time_limit(group):\n",
    "    group = group.copy()\n",
    "    group['value_ffill'] = group['value'].ffill()\n",
    "    group['original_timestamp'] = group['timestamp'].where(group['value'].notnull())\n",
    "    group['original_timestamp'] = group['original_timestamp'].ffill()\n",
    "    group['time_diff'] = group['timestamp'] - group['original_timestamp']\n",
    "    group.loc[group['time_diff'] > max_delta, 'value_ffill'] = np.nan\n",
    "    return group\n",
    "\n",
    "resampled_prices = resampled_prices.groupby(['market', 'source']).apply(forward_fill_with_time_limit).reset_index(drop=True)"
   ]
  },
  {
   "cell_type": "code",
   "execution_count": 152,
   "metadata": {},
   "outputs": [],
   "source": [
    "pivoted_prices = resampled_prices.pivot_table(values='value_ffill', index='timestamp', columns=['market', 'source'])\n",
    "pivoted_prices.columns = ['_'.join(col).strip() for col in pivoted_prices.columns.values]\n",
    "pivoted_prices.reset_index(inplace=True)"
   ]
  },
  {
   "cell_type": "code",
   "execution_count": 153,
   "metadata": {},
   "outputs": [],
   "source": [
    "markets = ['Donald Trump', 'Kamala Harris']\n",
    "best_odds_list = []\n",
    "\n",
    "for market in markets:\n",
    "    market_cols = [col for col in pivoted_prices.columns if col.startswith(market)]\n",
    "    market_df = pivoted_prices[['timestamp'] + market_cols].copy()\n",
    "\n",
    "    def get_best_odds(row):\n",
    "        odds = row[1:]\n",
    "        if odds.isnull().all():\n",
    "            return pd.Series([np.nan, np.nan])\n",
    "        best_value = odds.max()\n",
    "        best_source = odds.idxmax().split('_')[1]\n",
    "        return pd.Series([best_value, best_source])\n",
    "\n",
    "    market_df[['best_value', 'best_source']] = market_df.apply(get_best_odds, axis=1)\n",
    "    market_df['market'] = market\n",
    "    best_odds_list.append(market_df[['timestamp', 'market', 'best_value', 'best_source']])\n",
    "\n",
    "best_odds_df = pd.concat(best_odds_list, ignore_index=True)"
   ]
  },
  {
   "cell_type": "code",
   "execution_count": 154,
   "metadata": {},
   "outputs": [],
   "source": [
    "best_odds_pivot = best_odds_df.pivot(index='timestamp', columns='market', values=['best_value', 'best_source'])\n",
    "best_odds_pivot.columns = ['_'.join(col).strip() for col in best_odds_pivot.columns.values]\n",
    "best_odds_pivot.dropna(inplace=True)\n",
    "best_odds_pivot.reset_index(inplace=True)"
   ]
  },
  {
   "cell_type": "code",
   "execution_count": 156,
   "metadata": {},
   "outputs": [
    {
     "name": "stdout",
     "output_type": "stream",
     "text": [
      "\n",
      "Arbitrage Opportunities with Best Providers (Aligned Timestamps):\n",
      "                  timestamp best_value_Donald Trump best_source_Donald Trump  \\\n",
      "0 2024-10-30 17:49:00+00:00                1.694915                predictit   \n",
      "1 2024-10-30 17:50:00+00:00                1.694915                predictit   \n",
      "2 2024-10-30 17:51:00+00:00                1.694915                predictit   \n",
      "3 2024-10-30 17:52:00+00:00                1.694915                predictit   \n",
      "4 2024-10-30 17:53:00+00:00                1.694915                predictit   \n",
      "\n",
      "  best_value_Kamala Harris best_source_Kamala Harris overround profit_margin  \n",
      "0                  2.95421                polymarket    0.9285          7.15  \n",
      "1                  2.95421                polymarket    0.9285          7.15  \n",
      "2                  2.95421                polymarket    0.9285          7.15  \n",
      "3                 2.945508                polymarket    0.9295          7.05  \n",
      "4                 2.945508                polymarket    0.9295          7.05  \n"
     ]
    }
   ],
   "source": [
    "for market in markets:\n",
    "    best_odds_pivot[f'implied_prob_{market}'] = 1 / best_odds_pivot[f'best_value_{market}']\n",
    "\n",
    "implied_prob_cols = [f'implied_prob_{market}' for market in markets]\n",
    "best_odds_pivot['overround'] = best_odds_pivot[implied_prob_cols].sum(axis=1)\n",
    "\n",
    "arbitrage_opportunities = best_odds_pivot[best_odds_pivot['overround'] < 1].copy()\n",
    "arbitrage_opportunities['profit_margin'] = (1 - arbitrage_opportunities['overround']) * 100\n",
    "\n",
    "# Step 8: Display Results\n",
    "print(\"\\nArbitrage Opportunities with Best Providers (Aligned Timestamps):\")\n",
    "print(arbitrage_opportunities[['timestamp',\n",
    "                               'best_value_Donald Trump', 'best_source_Donald Trump',\n",
    "                               'best_value_Kamala Harris', 'best_source_Kamala Harris',\n",
    "                               'overround', 'profit_margin']].head())"
   ]
  },
  {
   "cell_type": "code",
   "execution_count": 157,
   "metadata": {},
   "outputs": [
    {
     "data": {
      "text/html": [
       "<div>\n",
       "<style scoped>\n",
       "    .dataframe tbody tr th:only-of-type {\n",
       "        vertical-align: middle;\n",
       "    }\n",
       "\n",
       "    .dataframe tbody tr th {\n",
       "        vertical-align: top;\n",
       "    }\n",
       "\n",
       "    .dataframe thead th {\n",
       "        text-align: right;\n",
       "    }\n",
       "</style>\n",
       "<table border=\"1\" class=\"dataframe\">\n",
       "  <thead>\n",
       "    <tr style=\"text-align: right;\">\n",
       "      <th></th>\n",
       "      <th>timestamp</th>\n",
       "      <th>best_value_Donald Trump</th>\n",
       "      <th>best_value_Kamala Harris</th>\n",
       "      <th>best_source_Donald Trump</th>\n",
       "      <th>best_source_Kamala Harris</th>\n",
       "      <th>implied_prob_Donald Trump</th>\n",
       "      <th>implied_prob_Kamala Harris</th>\n",
       "      <th>overround</th>\n",
       "      <th>profit_margin</th>\n",
       "    </tr>\n",
       "  </thead>\n",
       "  <tbody>\n",
       "    <tr>\n",
       "      <th>0</th>\n",
       "      <td>2024-10-30 17:49:00+00:00</td>\n",
       "      <td>1.694915</td>\n",
       "      <td>2.95421</td>\n",
       "      <td>predictit</td>\n",
       "      <td>polymarket</td>\n",
       "      <td>0.59</td>\n",
       "      <td>0.3385</td>\n",
       "      <td>0.9285</td>\n",
       "      <td>7.15</td>\n",
       "    </tr>\n",
       "    <tr>\n",
       "      <th>1</th>\n",
       "      <td>2024-10-30 17:50:00+00:00</td>\n",
       "      <td>1.694915</td>\n",
       "      <td>2.95421</td>\n",
       "      <td>predictit</td>\n",
       "      <td>polymarket</td>\n",
       "      <td>0.59</td>\n",
       "      <td>0.3385</td>\n",
       "      <td>0.9285</td>\n",
       "      <td>7.15</td>\n",
       "    </tr>\n",
       "    <tr>\n",
       "      <th>2</th>\n",
       "      <td>2024-10-30 17:51:00+00:00</td>\n",
       "      <td>1.694915</td>\n",
       "      <td>2.95421</td>\n",
       "      <td>predictit</td>\n",
       "      <td>polymarket</td>\n",
       "      <td>0.59</td>\n",
       "      <td>0.3385</td>\n",
       "      <td>0.9285</td>\n",
       "      <td>7.15</td>\n",
       "    </tr>\n",
       "    <tr>\n",
       "      <th>3</th>\n",
       "      <td>2024-10-30 17:52:00+00:00</td>\n",
       "      <td>1.694915</td>\n",
       "      <td>2.945508</td>\n",
       "      <td>predictit</td>\n",
       "      <td>polymarket</td>\n",
       "      <td>0.59</td>\n",
       "      <td>0.3395</td>\n",
       "      <td>0.9295</td>\n",
       "      <td>7.05</td>\n",
       "    </tr>\n",
       "    <tr>\n",
       "      <th>4</th>\n",
       "      <td>2024-10-30 17:53:00+00:00</td>\n",
       "      <td>1.694915</td>\n",
       "      <td>2.945508</td>\n",
       "      <td>predictit</td>\n",
       "      <td>polymarket</td>\n",
       "      <td>0.59</td>\n",
       "      <td>0.3395</td>\n",
       "      <td>0.9295</td>\n",
       "      <td>7.05</td>\n",
       "    </tr>\n",
       "  </tbody>\n",
       "</table>\n",
       "</div>"
      ],
      "text/plain": [
       "                  timestamp best_value_Donald Trump best_value_Kamala Harris  \\\n",
       "0 2024-10-30 17:49:00+00:00                1.694915                  2.95421   \n",
       "1 2024-10-30 17:50:00+00:00                1.694915                  2.95421   \n",
       "2 2024-10-30 17:51:00+00:00                1.694915                  2.95421   \n",
       "3 2024-10-30 17:52:00+00:00                1.694915                 2.945508   \n",
       "4 2024-10-30 17:53:00+00:00                1.694915                 2.945508   \n",
       "\n",
       "  best_source_Donald Trump best_source_Kamala Harris  \\\n",
       "0                predictit                polymarket   \n",
       "1                predictit                polymarket   \n",
       "2                predictit                polymarket   \n",
       "3                predictit                polymarket   \n",
       "4                predictit                polymarket   \n",
       "\n",
       "  implied_prob_Donald Trump implied_prob_Kamala Harris overround profit_margin  \n",
       "0                      0.59                     0.3385    0.9285          7.15  \n",
       "1                      0.59                     0.3385    0.9285          7.15  \n",
       "2                      0.59                     0.3385    0.9285          7.15  \n",
       "3                      0.59                     0.3395    0.9295          7.05  \n",
       "4                      0.59                     0.3395    0.9295          7.05  "
      ]
     },
     "execution_count": 157,
     "metadata": {},
     "output_type": "execute_result"
    }
   ],
   "source": [
    "arbitrage_opportunities[arbitrage_opportunities['profit_margin']>5].head()"
   ]
  },
  {
   "cell_type": "code",
   "execution_count": 143,
   "metadata": {},
   "outputs": [],
   "source": [
    "arbitrage_opportunities.to_csv('../output/arbs.csv',index=False)"
   ]
  },
  {
   "cell_type": "code",
   "execution_count": null,
   "metadata": {},
   "outputs": [],
   "source": []
  }
 ],
 "metadata": {
  "kernelspec": {
   "display_name": "bfair",
   "language": "python",
   "name": "python3"
  },
  "language_info": {
   "codemirror_mode": {
    "name": "ipython",
    "version": 3
   },
   "file_extension": ".py",
   "mimetype": "text/x-python",
   "name": "python",
   "nbconvert_exporter": "python",
   "pygments_lexer": "ipython3",
   "version": "3.12.4"
  }
 },
 "nbformat": 4,
 "nbformat_minor": 2
}
